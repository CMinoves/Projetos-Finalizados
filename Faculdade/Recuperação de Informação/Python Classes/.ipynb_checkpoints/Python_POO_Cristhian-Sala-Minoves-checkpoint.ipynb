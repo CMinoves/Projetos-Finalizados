{
 "cells": [
  {
   "cell_type": "code",
   "execution_count": 1,
   "id": "5ce36bff",
   "metadata": {},
   "outputs": [],
   "source": [
    "class Autor():\n",
    "    def __init__(self,nome, nome_meio, nome_final):\n",
    "        self.nome = nome\n",
    "        if nome_meio is None:\n",
    "            self.nome_meio = ''\n",
    "        else:\n",
    "            self.nome_meio = nome_meio\n",
    "        self.nome_final = nome_final\n",
    "    @property\n",
    "    def nome_como_citado(self):\n",
    "        x = f\"{self.nome_final} {self.nome[0]}{'.'}\"\n",
    "        x = x.upper()\n",
    "        return x\n",
    "    def __str__(self):\n",
    "        if(self.nome_meio == ''):\n",
    "            return f\"{self.nome} {self.nome_final}\"\n",
    "        else:\n",
    "            return f\"{self.nome} {self.nome_meio} {self.nome_final}\"\n",
    "    def __repr__(self):\n",
    "        return str(self)"
   ]
  },
  {
   "cell_type": "code",
   "execution_count": 2,
   "id": "f1c050e0",
   "metadata": {},
   "outputs": [],
   "source": [
    "class Livro():\n",
    "    def __init__(self,titulo,ano,autores):\n",
    "        self.titulo = titulo\n",
    "        self.ano = ano\n",
    "        if autores is None:\n",
    "            self.autores = []\n",
    "        else:\n",
    "            self.autores = autores\n",
    "    @property\n",
    "    def titulo(self):\n",
    "        return self._titulo\n",
    "    @titulo.setter\n",
    "    def titulo(self,val):\n",
    "        if val is None:\n",
    "            raise ValueError(\"Impossível cadastrar livro sem nome!\")\n",
    "        self._titulo = val\n",
    "    def __str__(self):\n",
    "        return f\"Título: {self.titulo}; Ano de publicação: {self.ano}; Autores: {self.autores}\\n\"\n",
    "    def __repr__(self):\n",
    "        return str(self)"
   ]
  },
  {
   "cell_type": "code",
   "execution_count": 3,
   "id": "6d592189",
   "metadata": {},
   "outputs": [],
   "source": [
    "class Biblioteca():\n",
    "    def __init__(self,livros):\n",
    "        self.livros = livros\n",
    "    @property\n",
    "    def livros_por_autor(self):\n",
    "        dicio = {}\n",
    "        for i in range (len(self.livros)):\n",
    "               dicio[self.livros[i].autores].append(self.livros[i])\n",
    "        return dicio\n",
    "    def __str__(self):\n",
    "        return f\"{self.livros}\"\n",
    "    def __repr__(self):\n",
    "        return str(self)"
   ]
  },
  {
   "cell_type": "code",
   "execution_count": 4,
   "id": "31f9343d",
   "metadata": {},
   "outputs": [
    {
     "name": "stdout",
     "output_type": "stream",
     "text": [
      "VASCONCELOS J.\n"
     ]
    },
    {
     "data": {
      "text/plain": [
       "[Título: Meu pé de Laranja Lima; Ano de publicação: 1968; Autores: [Jose Mauro de Vasconcelos]\n",
       ", Título: Dom Casmurro; Ano de publicação: 1899; Autores: [Machado de Assis]\n",
       ", Título: Manual de Roteiro: ou manuel, o primo pobre dos manuais de roteiro; Ano de publicação: 2004; Autores: [Leandro Saraiva, Newton Cannito]\n",
       "]"
      ]
     },
     "execution_count": 4,
     "metadata": {},
     "output_type": "execute_result"
    }
   ],
   "source": [
    "#Tudo está funcionando, exceto livros_por_autor\n",
    "jose = Autor(\"Jose\",\"Mauro de\",\"Vasconcelos\")\n",
    "print(jose.nome_como_citado)\n",
    "pe = Livro(\"Meu pé de Laranja Lima\",1968,[jose])\n",
    "machado = Autor(\"Machado\",\"de\",\"Assis\")\n",
    "casmurro = Livro(\"Dom Casmurro\",1899,[machado])\n",
    "leandro = Autor(\"Leandro\",'',\"Saraiva\")\n",
    "newton = Autor(\"Newton\",'',\"Cannito\")\n",
    "manuel = Livro(\"Manual de Roteiro: ou manuel, o primo pobre dos manuais de roteiro\",2004,[leandro,newton])\n",
    "bibli = Biblioteca([pe,casmurro,manuel])\n",
    "bibli"
   ]
  }
 ],
 "metadata": {
  "kernelspec": {
   "display_name": "Python 3",
   "language": "python",
   "name": "python3"
  },
  "language_info": {
   "codemirror_mode": {
    "name": "ipython",
    "version": 3
   },
   "file_extension": ".py",
   "mimetype": "text/x-python",
   "name": "python",
   "nbconvert_exporter": "python",
   "pygments_lexer": "ipython3",
   "version": "3.8.5"
  }
 },
 "nbformat": 4,
 "nbformat_minor": 5
}
