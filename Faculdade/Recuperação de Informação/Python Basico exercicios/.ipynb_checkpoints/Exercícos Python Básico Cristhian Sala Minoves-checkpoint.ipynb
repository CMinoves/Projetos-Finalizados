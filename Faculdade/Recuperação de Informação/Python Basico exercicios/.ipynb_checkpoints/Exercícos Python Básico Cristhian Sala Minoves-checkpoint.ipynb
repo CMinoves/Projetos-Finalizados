{
 "cells": [
  {
   "cell_type": "code",
   "execution_count": 6,
   "id": "b7107249",
   "metadata": {},
   "outputs": [],
   "source": [
    "#aqui está a questão 8 da unidade 2\n",
    "def exibe_amigos(pessoas, amizades, nome_pessoa):\n",
    "    limh = len(amizades)\n",
    "    cod = pessoas.index(nome_pessoa)\n",
    "    lista = []\n",
    "    for i in range(limh):\n",
    "        if(amizades[cod][i]):\n",
    "            lista.append(pessoas[i])\n",
    "    return lista\n",
    "def exibe_amigos_em_comum(pessoas, amizades, nome_pessoa_1, nome_pessoa_2):\n",
    "    limh = len(amizades)\n",
    "    cod1 = pessoas.index(nome_pessoa_1)\n",
    "    cod2 = pessoas.index(nome_pessoa_2)\n",
    "    lista = []\n",
    "    for i in range(limh):\n",
    "        if(amizades[cod1][i]==amizades[cod2][i]):\n",
    "            lista.append(pessoas[i])\n",
    "    return lista\n"
   ]
  },
  {
   "cell_type": "code",
   "execution_count": 7,
   "id": "fa1d2859",
   "metadata": {},
   "outputs": [
    {
     "name": "stdout",
     "output_type": "stream",
     "text": [
      "Amigos de Bob: ['Alice', 'Bob']\n",
      "Amigos em comum de Carol e Alice: ['Bob', 'Carol']\n",
      "Amigos de Yuri: ['Wanderley', 'Xande', 'Zulmira']\n",
      "Amigos em comum de Yuri e Xande: ['Wanderley', 'Xande', 'Yuri']\n"
     ]
    }
   ],
   "source": [
    "#aqui estão os testes da questão 8 da unidade 2\n",
    "pessoas = [\"Alice\",\"Bob\",\"Carol\"]\n",
    "amizades = [[0,1,0],\n",
    "           [1,1,0],\n",
    "            [1,1,0]]\n",
    "\n",
    "amigos = exibe_amigos(pessoas, amizades,\"Carol\")\n",
    "print(f\"Amigos de Bob: {amigos}\")\n",
    "\n",
    "amigos = exibe_amigos_em_comum(pessoas, amizades,\"Carol\",\"Alice\")\n",
    "print(f\"Amigos em comum de Carol e Alice: {amigos}\")\n",
    "\n",
    "\n",
    "pessoas = [\"Wanderley\",\"Xande\",\"Yuri\",\"Zulmira\"]\n",
    "amizades = [[0,1,0,1],\n",
    "           [1,1,0,0],\n",
    "            [1,1,0,1],\n",
    "           [0,0,1,1]]\n",
    "\n",
    "amigos = exibe_amigos(pessoas, amizades,\"Yuri\")\n",
    "print(f\"Amigos de Yuri: {amigos}\")\n",
    "\n",
    "amigos = exibe_amigos_em_comum(pessoas, amizades,\"Yuri\",\"Xande\")\n",
    "print(f\"Amigos em comum de Yuri e Xande: {amigos}\")"
   ]
  },
  {
   "cell_type": "code",
   "execution_count": 22,
   "id": "d89bb738",
   "metadata": {},
   "outputs": [],
   "source": [
    "#aqui está o exercício 2 da unidade 3\n",
    "def elimina_caracteres(texto, caracteres_para_eliminar):\n",
    "    for caracter_eliminar in caracteres_para_eliminar:\n",
    "        texto2 = texto.split(caracter_eliminar)\n",
    "        texto=\"\".join(texto2)\n",
    "    return texto\n",
    "\n",
    "def substitua_caracteres(texto, caracteres_procura, caracteres_substituir_por):\n",
    "    for i in range(len(caracteres_procura)):\n",
    "        caractere_procura = caracteres_procura[i]\n",
    "        caractere_substituir_por = caracteres_substituir_por[i]\n",
    "        texto = texto.replace(caractere_procura,caractere_substituir_por)\n",
    "    return texto\n"
   ]
  },
  {
   "cell_type": "code",
   "execution_count": 23,
   "id": "0c427cfa",
   "metadata": {},
   "outputs": [
    {
     "name": "stdout",
     "output_type": "stream",
     "text": [
      "trgo para tgrs trsts\n",
      " s tds s vgs smssm d m hr pr tr?\n",
      "unu cempreu umu urerunhu\n",
      "vumis undur omu vigul puru u deruetu?\n"
     ]
    }
   ],
   "source": [
    "#aqui estão os testes da questão 2 da unidade 3\n",
    "resultado= elimina_caracteres('trigo para tigres tristes', 'ie') \n",
    "print(resultado)\n",
    "\n",
    "resultado_2 = elimina_caracteres('e se todas as vogais sumissem de uma hora para outra?', 'aeiou') \n",
    "print(resultado_2)\n",
    "\n",
    "resultado_3 = substitua_caracteres('ana comprou uma ariranha', 'aoi', 'uee')\n",
    "print(resultado_3)\n",
    "\n",
    "resultado_4 = substitua_caracteres('vamos andar uma vogal para a direita?','eioua','aeiou')\n",
    "print(resultado_4)"
   ]
  },
  {
   "cell_type": "code",
   "execution_count": 74,
   "id": "2acd1ed4",
   "metadata": {},
   "outputs": [],
   "source": [
    "#aqui está o exercício 3 da unidade 3\n",
    "def verifica_palindromo(texto:str)->bool:\n",
    "    caracteres_para_eliminar = ' ,-!?'\n",
    "    #elimina caracteres pedidos\n",
    "    for caracter_eliminar in caracteres_para_eliminar:\n",
    "        texto2 = texto.split(caracter_eliminar)\n",
    "        texto=\"\".join(texto2)\n",
    "    #faz a substituicao dos caracteres\n",
    "    caracteres_procura = 'áãâéẽêíĩîóõôúũûç'\n",
    "    caracteres_substituir_por = 'aaaeeeiiiooouuuc'\n",
    "    for i in range(len(caracteres_procura)):\n",
    "        caractere_procura = caracteres_procura[i]\n",
    "        caractere_substituir_por = caracteres_substituir_por[i]\n",
    "        texto = texto.replace(caractere_procura,caractere_substituir_por)\n",
    "        tam = len(texto)/2\n",
    "    if(len(texto)%2 == 1):\n",
    "        tam+=0.5\n",
    "    tam = int(tam)\n",
    "    for i in range(tam):\n",
    "        if(texto[i]!=texto[len(texto)-i-1]):\n",
    "            return False\n",
    "    return True"
   ]
  },
  {
   "cell_type": "code",
   "execution_count": 75,
   "id": "715480e1",
   "metadata": {},
   "outputs": [
    {
     "name": "stdout",
     "output_type": "stream",
     "text": [
      "A frase é um palíndromo\n",
      "A frase é um palíndromo\n",
      "A frase não é um palíndromo\n"
     ]
    }
   ],
   "source": [
    "if(verifica_palindromo(\"após! a sopa\")):\n",
    "    print(\"A frase é um palíndromo\")\n",
    "else:\n",
    "    print(\"A frase não é um palíndromo\")\n",
    "\n",
    "if(verifica_palindromo(\"socorram-me, subi no ônibus em marrocos\")):\n",
    "    print(\"A frase é um palíndromo\")\n",
    "else:\n",
    "    print(\"A frase não é um palíndromo\")\n",
    "    \n",
    "if(verifica_palindromo(\"nem tudo são palíndromos\")):\n",
    "    print(\"A frase é um palíndromo\")\n",
    "else:\n",
    "    print(\"A frase não é um palíndromo\")"
   ]
  },
  {
   "cell_type": "code",
   "execution_count": 13,
   "id": "63ca234a",
   "metadata": {},
   "outputs": [],
   "source": [
    "#aqui está o exercício 5 da unidade 3\n",
    "\n",
    "def executa_operacao_vetor(operacao,vetor1,vetor2):\n",
    "    if(len(vetor1)==len(vetor2)):\n",
    "        resultado = operacao(vetor1,vetor2)\n",
    "    else:\n",
    "        print(\"Operação impossível de ser realizada, pois os vetor possuem tamanhos diferentes\")\n",
    "        resultado = None\n",
    "    return resultado\n",
    "\n",
    "def operacao_soma(vetor1,vetor2):\n",
    "    result = []\n",
    "    for i in range(len(vetor1)):\n",
    "        result.append(vetor1[i]+vetor2[i])\n",
    "    return result\n",
    "\n",
    "def operacao_subtracao(vetor1,vetor2):\n",
    "    result = []\n",
    "    for i in range(len(vetor1)):\n",
    "        result.append(vetor1[i]-vetor2[i])\n",
    "    return result\n",
    "\n",
    "def operacao_produto(vetor1,vetor2):\n",
    "    result = []\n",
    "    for i in range(len(vetor1)):\n",
    "        result.append(vetor1[i]*vetor2[i])\n",
    "    return result\n"
   ]
  },
  {
   "cell_type": "code",
   "execution_count": 18,
   "id": "12a1dd56",
   "metadata": {},
   "outputs": [
    {
     "name": "stdout",
     "output_type": "stream",
     "text": [
      "Resultado da soma: [5, 5, 5, 5]\n",
      "Resultado da subtração: [-3, -1, 1, 3]\n",
      "Resultado do produto: [4, 6, 6, 4]\n",
      "Operação impossível de ser realizada, pois os vetor possuem tamanhos diferentes\n",
      "Resultado da soma: None\n"
     ]
    }
   ],
   "source": [
    "#aqui estão os testes da questão 5 da unidade 3\n",
    "vetor1 = [1,2,3,4]\n",
    "vetor2 = [4,3,2,1]\n",
    "resultado = executa_operacao_vetor(operacao_soma,vetor1,vetor2)\n",
    "print(f\"Resultado da soma: {resultado}\")\n",
    "\n",
    "resultado = executa_operacao_vetor(operacao_subtracao,vetor1,vetor2)\n",
    "print(f\"Resultado da subtração: {resultado}\")\n",
    "\n",
    "resultado = executa_operacao_vetor(operacao_produto,vetor1,vetor2)\n",
    "print(f\"Resultado do produto: {resultado}\")\n",
    "\n",
    "vetor1 = [1,2,3,4]\n",
    "vetor2 = [4,3,2]\n",
    "resultado2 = executa_operacao_vetor(operacao_soma,vetor1,vetor2)\n",
    "print(f\"Resultado da soma: {resultado2}\")"
   ]
  }
 ],
 "metadata": {
  "kernelspec": {
   "display_name": "Python 3",
   "language": "python",
   "name": "python3"
  },
  "language_info": {
   "codemirror_mode": {
    "name": "ipython",
    "version": 3
   },
   "file_extension": ".py",
   "mimetype": "text/x-python",
   "name": "python",
   "nbconvert_exporter": "python",
   "pygments_lexer": "ipython3",
   "version": "3.8.5"
  }
 },
 "nbformat": 4,
 "nbformat_minor": 5
}
