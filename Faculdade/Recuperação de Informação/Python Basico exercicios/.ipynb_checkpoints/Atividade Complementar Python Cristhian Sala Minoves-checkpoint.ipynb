{
 "cells": [
  {
   "cell_type": "code",
   "execution_count": 4,
   "id": "0d655cb6",
   "metadata": {},
   "outputs": [],
   "source": [
    "#Fazendo a funcao maior(a,b)\n",
    "def maior(a,b):\n",
    "    if(a==b):\n",
    "        return 'os valores são iguais'\n",
    "    elif(a>b):\n",
    "        return a\n",
    "    else:\n",
    "        return b"
   ]
  },
  {
   "cell_type": "code",
   "execution_count": 6,
   "id": "746b3679",
   "metadata": {},
   "outputs": [
    {
     "name": "stdout",
     "output_type": "stream",
     "text": [
      "2\n",
      "2\n",
      "os valores são iguais\n"
     ]
    }
   ],
   "source": [
    "#testando a funcao maior(a,b)\n",
    "result = maior(1,2)\n",
    "print(result)\n",
    "result = maior(2,1)\n",
    "print(result)\n",
    "result = maior(1,1)\n",
    "print(result)"
   ]
  },
  {
   "cell_type": "code",
   "execution_count": 10,
   "id": "543438b7",
   "metadata": {},
   "outputs": [],
   "source": [
    "#fazendo a funcao soma(lista,x)\n",
    "def soma(lista,x=0):\n",
    "    result = 0\n",
    "    for i in range(len(lista)):\n",
    "        result+=lista[i]\n",
    "    result+=x\n",
    "    return result"
   ]
  },
  {
   "cell_type": "code",
   "execution_count": 12,
   "id": "618fc069",
   "metadata": {},
   "outputs": [
    {
     "name": "stdout",
     "output_type": "stream",
     "text": [
      "10\n",
      "910\n"
     ]
    }
   ],
   "source": [
    "#testando a funcao soma(lista,x)\n",
    "result = soma([1,2,3,4])\n",
    "print(result)\n",
    "result = soma([1,2,3,4],900)\n",
    "print(result)"
   ]
  },
  {
   "cell_type": "code",
   "execution_count": 2,
   "id": "640180af",
   "metadata": {},
   "outputs": [],
   "source": [
    "#criando funcao media(lista)\n",
    "def media(lista):\n",
    "    media = 0;\n",
    "    for i in range(len(lista)):\n",
    "        media+=lista[i]\n",
    "    media = media/len(lista)\n",
    "    return media"
   ]
  },
  {
   "cell_type": "code",
   "execution_count": 3,
   "id": "bf74e465",
   "metadata": {},
   "outputs": [
    {
     "name": "stdout",
     "output_type": "stream",
     "text": [
      "1.0\n",
      "3.0\n"
     ]
    }
   ],
   "source": [
    "#testando a funcao media\n",
    "result = media([1,1,1,1,1])\n",
    "print(result)\n",
    "result = media([1,2,3,4,5])\n",
    "print(result)"
   ]
  },
  {
   "cell_type": "code",
   "execution_count": 6,
   "id": "6bc7ce11",
   "metadata": {},
   "outputs": [],
   "source": [
    "#criando a funcao valores_iguais(lista1,lista2)\n",
    "def valores_iguais(lista1,lista2):\n",
    "    lista = []\n",
    "    verifica = True\n",
    "    for i in range (len(lista1)):\n",
    "        for j in range(len(lista2)):\n",
    "            if(lista1[i]==lista2[j]):\n",
    "                verifica = True\n",
    "                for x in range (len(lista)):\n",
    "                    if(lista[x]==lista1[i]):\n",
    "                        verifica = False\n",
    "                if(verifica):\n",
    "                    lista.append(lista1[i])           \n",
    "    return lista"
   ]
  },
  {
   "cell_type": "code",
   "execution_count": 8,
   "id": "ac1cb449",
   "metadata": {},
   "outputs": [
    {
     "name": "stdout",
     "output_type": "stream",
     "text": [
      "lista de iguais: [2, 3, 4]\n",
      "lista de iguais: []\n"
     ]
    }
   ],
   "source": [
    "#testando a funcao valores_iguais(lista1,lista2)\n",
    "lista = valores_iguais([1,2,3,4,5],[3,2,4,90])\n",
    "print(f\"lista de iguais: {lista}\")\n",
    "\n",
    "lista = valores_iguais([1,2,3,4,5],[6,7,8,9])\n",
    "print(f\"lista de iguais: {lista}\")"
   ]
  },
  {
   "cell_type": "code",
   "execution_count": 18,
   "id": "468341ca",
   "metadata": {},
   "outputs": [],
   "source": [
    "#criando a funcao indice_prim_valor_igual(lista1,lista2)\n",
    "def indice_prim_valor_igual(lista1,lista2):\n",
    "    for x in range (len(lista1)):\n",
    "        for y in range(len(lista2)):\n",
    "            if(lista1[x]==lista2[y]):\n",
    "                return x\n",
    "    return None"
   ]
  },
  {
   "cell_type": "code",
   "execution_count": 19,
   "id": "80a8443b",
   "metadata": {},
   "outputs": [
    {
     "name": "stdout",
     "output_type": "stream",
     "text": [
      "1\n",
      "None\n"
     ]
    }
   ],
   "source": [
    "#testando a funcao indice_prim_valor_igual(lista1,lista2)\n",
    "x = indice_prim_valor_igual([1,2,3,4],[2,0,0,0])\n",
    "print(x)\n",
    "x = indice_prim_valor_igual([1,2,3,4],[0,0,0,0])\n",
    "print(x)"
   ]
  }
 ],
 "metadata": {
  "kernelspec": {
   "display_name": "Python 3",
   "language": "python",
   "name": "python3"
  },
  "language_info": {
   "codemirror_mode": {
    "name": "ipython",
    "version": 3
   },
   "file_extension": ".py",
   "mimetype": "text/x-python",
   "name": "python",
   "nbconvert_exporter": "python",
   "pygments_lexer": "ipython3",
   "version": "3.8.5"
  }
 },
 "nbformat": 4,
 "nbformat_minor": 5
}
