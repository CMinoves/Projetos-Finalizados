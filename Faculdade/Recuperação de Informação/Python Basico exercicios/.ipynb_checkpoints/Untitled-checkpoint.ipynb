{
 "cells": [
  {
   "cell_type": "code",
   "execution_count": 19,
   "id": "b7107249",
   "metadata": {},
   "outputs": [],
   "source": [
    "def exibe_amigos(pessoas, amizades, nome_pessoa):\n",
    "    limh = len(amizades)\n",
    "    cod = pessoas.index(nome_pessoa)\n",
    "    lista = []\n",
    "    for i in range(limh):\n",
    "        if(amizades[cod][i]):\n",
    "            lista.append(pessoas[i])\n",
    "    return lista\n",
    "def exibe_amigos_em_comum(pessoas, amizades, nome_pessoa_1, nome_pessoa_2):\n",
    "    limh = len(amizades)\n",
    "    cod1 = pessoas.index(nome_pessoa_1)\n",
    "    cod2 = pessoas.index(nome_pessoa_2)\n",
    "    lista = []\n",
    "    for i in range(limh):\n",
    "        if(amizades[cod1][i]==amizades[cod2][i]):\n",
    "            lista.append(pessoas[i])\n",
    "    return lista\n"
   ]
  },
  {
   "cell_type": "code",
   "execution_count": 25,
   "id": "fa1d2859",
   "metadata": {},
   "outputs": [
    {
     "name": "stdout",
     "output_type": "stream",
     "text": [
      "Amigos de Bob: ['Alice', 'Bob']\n",
      "Amigos em comum de Carol e Alice: ['Bob', 'Carol']\n",
      "Amigos de Yuri: ['Wanderley', 'Xande', 'Zulmira']\n",
      "Amigos em comum de Yuri e Xande: ['Wanderley', 'Xande', 'Yuri']\n"
     ]
    }
   ],
   "source": [
    "pessoas = [\"Alice\",\"Bob\",\"Carol\"]\n",
    "amizades = [[0,1,0],\n",
    "           [1,1,0],\n",
    "            [1,1,0]]\n",
    "\n",
    "amigos = exibe_amigos(pessoas, amizades,\"Carol\")\n",
    "print(f\"Amigos de Bob: {amigos}\")\n",
    "\n",
    "amigos = exibe_amigos_em_comum(pessoas, amizades,\"Carol\",\"Alice\")\n",
    "print(f\"Amigos em comum de Carol e Alice: {amigos}\")\n",
    "\n",
    "pessoas = [\"Wanderley\",\"Xande\",\"Yuri\",\"Zulmira\"]\n",
    "amizades = [[0,1,0,1],\n",
    "           [1,1,0,0],\n",
    "            [1,1,0,1],\n",
    "           [0,0,1,1]]\n",
    "\n",
    "amigos = exibe_amigos(pessoas, amizades,\"Yuri\")\n",
    "print(f\"Amigos de Yuri: {amigos}\")\n",
    "\n",
    "amigos = exibe_amigos_em_comum(pessoas, amizades,\"Yuri\",\"Xande\")\n",
    "print(f\"Amigos em comum de Yuri e Xande: {amigos}\")"
   ]
  }
 ],
 "metadata": {
  "kernelspec": {
   "display_name": "Python 3",
   "language": "python",
   "name": "python3"
  },
  "language_info": {
   "codemirror_mode": {
    "name": "ipython",
    "version": 3
   },
   "file_extension": ".py",
   "mimetype": "text/x-python",
   "name": "python",
   "nbconvert_exporter": "python",
   "pygments_lexer": "ipython3",
   "version": "3.8.5"
  }
 },
 "nbformat": 4,
 "nbformat_minor": 5
}
